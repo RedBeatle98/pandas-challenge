{
 "cells": [
  {
   "attachments": {},
   "cell_type": "markdown",
   "metadata": {},
   "source": [
    "# PyCity Schools Analysis\n",
    "\n",
    "- Your analysis here\n",
    "\n",
    "---"
   ]
  },
  {
   "cell_type": "code",
   "execution_count": 60,
   "metadata": {
    "scrolled": true
   },
   "outputs": [
    {
     "name": "stdout",
     "output_type": "stream",
     "text": [
      "   Student ID       student_name gender grade        school_name  \\\n",
      "0           0       Paul Bradley      M   9th  Huang High School   \n",
      "1           1       Victor Smith      M  12th  Huang High School   \n",
      "2           2    Kevin Rodriguez      M  12th  Huang High School   \n",
      "3           3  Dr. Richard Scott      M  12th  Huang High School   \n",
      "4           4         Bonnie Ray      F   9th  Huang High School   \n",
      "\n",
      "   reading_score  math_score  School ID      type  size   budget  \n",
      "0             66          79          0  District  2917  1910635  \n",
      "1             94          61          0  District  2917  1910635  \n",
      "2             90          60          0  District  2917  1910635  \n",
      "3             67          58          0  District  2917  1910635  \n",
      "4             97          84          0  District  2917  1910635  \n"
     ]
    }
   ],
   "source": [
    "import pandas as pd\n",
    "from pathlib import Path\n",
    "\n",
    "school_data_to_load = \"../PyCitySchools/Resources/schools_complete.csv\"\n",
    "student_data_to_load = \"../PyCitySchools/Resources/students_complete.csv\"\n",
    "\n",
    "school_data = pd.read_csv(school_data_to_load)\n",
    "student_data = pd.read_csv(student_data_to_load)\n",
    "\n",
    "school_data_complete = pd.merge(student_data, school_data, how=\"left\", on=[\"school_name\", \"school_name\"])\n",
    "\n",
    "print(school_data_complete.head())"
   ]
  },
  {
   "cell_type": "markdown",
   "metadata": {},
   "source": [
    "## District Summary"
   ]
  },
  {
   "cell_type": "code",
   "execution_count": 61,
   "metadata": {},
   "outputs": [],
   "source": [
    "total_number_of_unique_schools = len(school_data_complete[\"school_name\"].unique())\n",
    "total_students = school_data_complete[\"Student ID\"].count()\n",
    "total_budget = school_data[\"budget\"].sum()\n",
    "average_math_score = student_data[\"math_score\"].mean()\n",
    "average_reading_score = student_data[\"reading_score\"].mean()\n",
    "percentage_passing_math = ((school_data_complete[\"math_score\"] >= 70).sum() / total_students) * 100\n",
    "percentage_passing_reading = ((school_data_complete[\"reading_score\"] >= 70).sum() / total_students) * 100\n",
    "percentage_overall_passing = (((school_data_complete[\"math_score\"] >= 70) & (school_data_complete[\"reading_score\"] >= 70)).sum() / total_students) * 100"
   ]
  },
  {
   "cell_type": "code",
   "execution_count": 62,
   "metadata": {},
   "outputs": [
    {
     "name": "stdout",
     "output_type": "stream",
     "text": [
      "   Total number of unique schools  Total students  Total budget  \\\n",
      "0                              15           39170      24649428   \n",
      "\n",
      "   Average math score  Average reading score  % passing math  \\\n",
      "0           78.985371               81.87784       74.980853   \n",
      "\n",
      "   % passing reading  % overall passing  \n",
      "0          85.805463          65.172326  \n"
     ]
    }
   ],
   "source": [
    "district_summary = pd.DataFrame({\"Total number of unique schools\" : [total_number_of_unique_schools],\n",
    "                                 \"Total students\" : [total_students],\n",
    "                                 \"Total budget\" : [total_budget],\n",
    "                                 \"Average math score\" : [average_math_score],\n",
    "                                 \"Average reading score\" : [average_reading_score],\n",
    "                                 \"% passing math\" : [percentage_passing_math],\n",
    "                                 \"% passing reading\" : [percentage_passing_reading],\n",
    "                                 \"% overall passing\" : [percentage_overall_passing]})\n",
    "\n",
    "print(district_summary.head())"
   ]
  },
  {
   "cell_type": "markdown",
   "metadata": {},
   "source": [
    "## School Summary"
   ]
  },
  {
   "cell_type": "code",
   "execution_count": 63,
   "metadata": {},
   "outputs": [],
   "source": [
    "school_type = school_data.set_index(\"school_name\")[\"type\"]\n",
    "students_total = school_data_complete[\"school_name\"].value_counts()\n",
    "total_school_budget = school_data_complete.groupby(\"school_name\")[\"budget\"].mean()\n",
    "per_student_budget = total_school_budget / students_total\n",
    "total_school_budget = school_data_complete.groupby(\"school_name\")[\"budget\"].mean()\n",
    "math_score_average = school_data_complete.groupby(\"school_name\")[\"math_score\"].mean()\n",
    "reading_score_average = school_data_complete.groupby(\"school_name\")[\"reading_score\"].mean()\n",
    "math_passing_percentage = school_data_complete[(school_data_complete[\"math_score\"] >= 70)].groupby(\"school_name\")[\"student_name\"].count() / students_total * 100\n",
    "reading_passing_percentage = school_data_complete[(school_data_complete[\"reading_score\"] >= 70)].groupby(\"school_name\")[\"student_name\"].count() / students_total * 100\n",
    "overall_passing_percentage = school_data_complete[(school_data_complete[\"math_score\"] >= 70) & (school_data_complete[\"reading_score\"] >= 70)].groupby(\"school_name\")[\"student_name\"].count() / students_total * 100"
   ]
  },
  {
   "cell_type": "code",
   "execution_count": 64,
   "metadata": {},
   "outputs": [
    {
     "name": "stdout",
     "output_type": "stream",
     "text": [
      "                     School type  Total students  Total school budget  \\\n",
      "school_name                                                             \n",
      "Bailey High School      District            4976            3124928.0   \n",
      "Cabrera High School      Charter            1858            1081356.0   \n",
      "Figueroa High School    District            2949            1884411.0   \n",
      "Ford High School        District            2739            1763916.0   \n",
      "Griffin High School      Charter            1468             917500.0   \n",
      "\n",
      "                      Per student budget  Average math score  \\\n",
      "school_name                                                    \n",
      "Bailey High School                 628.0           77.048432   \n",
      "Cabrera High School                582.0           83.061895   \n",
      "Figueroa High School               639.0           76.711767   \n",
      "Ford High School                   644.0           77.102592   \n",
      "Griffin High School                625.0           83.351499   \n",
      "\n",
      "                      Average reading score  % passing math  \\\n",
      "school_name                                                   \n",
      "Bailey High School                81.033963       66.680064   \n",
      "Cabrera High School               83.975780       94.133477   \n",
      "Figueroa High School              81.158020       65.988471   \n",
      "Ford High School                  80.746258       68.309602   \n",
      "Griffin High School               83.816757       93.392371   \n",
      "\n",
      "                      % passing reading  % overall passing  \n",
      "school_name                                                 \n",
      "Bailey High School            81.933280          54.642283  \n",
      "Cabrera High School           97.039828          91.334769  \n",
      "Figueroa High School          80.739234          53.204476  \n",
      "Ford High School              79.299014          54.289887  \n",
      "Griffin High School           97.138965          90.599455  \n"
     ]
    }
   ],
   "source": [
    "per_school_summary = pd.DataFrame({\"School type\" : school_type,\n",
    "                               \"Total students\" : students_total,\n",
    "                               \"Total school budget\" : total_school_budget,\n",
    "                               \"Per student budget\" : per_student_budget,\n",
    "                               \"Average math score\" : math_score_average,\n",
    "                               \"Average reading score\" : reading_score_average,\n",
    "                               \"% passing math\" : math_passing_percentage,\n",
    "                               \"% passing reading\" : reading_passing_percentage,\n",
    "                               \"% overall passing\" : overall_passing_percentage})\n",
    "\n",
    "print(per_school_summary.head())"
   ]
  },
  {
   "cell_type": "markdown",
   "metadata": {},
   "source": [
    "## Highest-Performing Schools (by % Overall Passing)"
   ]
  },
  {
   "cell_type": "code",
   "execution_count": 65,
   "metadata": {
    "scrolled": true
   },
   "outputs": [
    {
     "name": "stdout",
     "output_type": "stream",
     "text": [
      "                    School type  Total students  Total school budget  \\\n",
      "school_name                                                            \n",
      "Cabrera High School     Charter            1858            1081356.0   \n",
      "Thomas High School      Charter            1635            1043130.0   \n",
      "Griffin High School     Charter            1468             917500.0   \n",
      "Wilson High School      Charter            2283            1319574.0   \n",
      "Pena High School        Charter             962             585858.0   \n",
      "\n",
      "                     Per student budget  Average math score  \\\n",
      "school_name                                                   \n",
      "Cabrera High School               582.0           83.061895   \n",
      "Thomas High School                638.0           83.418349   \n",
      "Griffin High School               625.0           83.351499   \n",
      "Wilson High School                578.0           83.274201   \n",
      "Pena High School                  609.0           83.839917   \n",
      "\n",
      "                     Average reading score  % passing math  % passing reading  \\\n",
      "school_name                                                                     \n",
      "Cabrera High School              83.975780       94.133477          97.039828   \n",
      "Thomas High School               83.848930       93.272171          97.308869   \n",
      "Griffin High School              83.816757       93.392371          97.138965   \n",
      "Wilson High School               83.989488       93.867718          96.539641   \n",
      "Pena High School                 84.044699       94.594595          95.945946   \n",
      "\n",
      "                     % overall passing  \n",
      "school_name                             \n",
      "Cabrera High School          91.334769  \n",
      "Thomas High School           90.948012  \n",
      "Griffin High School          90.599455  \n",
      "Wilson High School           90.582567  \n",
      "Pena High School             90.540541  \n"
     ]
    }
   ],
   "source": [
    "highest_performing_schools = per_school_summary.sort_values([\"% overall passing\"], ascending = False)\n",
    "print(highest_performing_schools.head(5))\n",
    "\n"
   ]
  },
  {
   "cell_type": "markdown",
   "metadata": {},
   "source": [
    "## Bottom Performing Schools (By % Overall Passing)"
   ]
  },
  {
   "cell_type": "code",
   "execution_count": 66,
   "metadata": {},
   "outputs": [
    {
     "name": "stdout",
     "output_type": "stream",
     "text": [
      "                      School type  Total students  Total school budget  \\\n",
      "school_name                                                              \n",
      "Rodriguez High School    District            3999            2547363.0   \n",
      "Figueroa High School     District            2949            1884411.0   \n",
      "Huang High School        District            2917            1910635.0   \n",
      "Hernandez High School    District            4635            3022020.0   \n",
      "Johnson High School      District            4761            3094650.0   \n",
      "\n",
      "                       Per student budget  Average math score  \\\n",
      "school_name                                                     \n",
      "Rodriguez High School               637.0           76.842711   \n",
      "Figueroa High School                639.0           76.711767   \n",
      "Huang High School                   655.0           76.629414   \n",
      "Hernandez High School               652.0           77.289752   \n",
      "Johnson High School                 650.0           77.072464   \n",
      "\n",
      "                       Average reading score  % passing math  \\\n",
      "school_name                                                    \n",
      "Rodriguez High School              80.744686       66.366592   \n",
      "Figueroa High School               81.158020       65.988471   \n",
      "Huang High School                  81.182722       65.683922   \n",
      "Hernandez High School              80.934412       66.752967   \n",
      "Johnson High School                80.966394       66.057551   \n",
      "\n",
      "                       % passing reading  % overall passing  \n",
      "school_name                                                  \n",
      "Rodriguez High School          80.220055          52.988247  \n",
      "Figueroa High School           80.739234          53.204476  \n",
      "Huang High School              81.316421          53.513884  \n",
      "Hernandez High School          80.862999          53.527508  \n",
      "Johnson High School            81.222432          53.539172  \n"
     ]
    }
   ],
   "source": [
    "lowest_performing_schools = per_school_summary.sort_values([\"% overall passing\"], ascending = True)\n",
    "print(lowest_performing_schools.head(5))\n"
   ]
  },
  {
   "cell_type": "markdown",
   "metadata": {},
   "source": [
    "## Math Scores by Grade"
   ]
  },
  {
   "cell_type": "code",
   "execution_count": 67,
   "metadata": {},
   "outputs": [
    {
     "name": "stdout",
     "output_type": "stream",
     "text": [
      "                            9th       10th       11th       12th\n",
      "Bailey High School    77.083676  76.996772  77.515588  76.492218\n",
      "Cabrera High School   83.094697  83.154506  82.765560  83.277487\n",
      "Figueroa High School  76.403037  76.539974  76.884344  77.151369\n",
      "Ford High School      77.361345  77.672316  76.918058  76.179963\n",
      "Griffin High School   82.044010  84.229064  83.842105  83.356164\n"
     ]
    }
   ],
   "source": [
    "ninth_math = student_data.loc[student_data[\"grade\"] == \"9th\"].groupby(\"school_name\")[\"math_score\"].mean()\n",
    "tenth_math = student_data.loc[student_data[\"grade\"] == \"10th\"].groupby(\"school_name\")[\"math_score\"].mean()\n",
    "eleventh_math = student_data.loc[student_data[\"grade\"] == \"11th\"].groupby(\"school_name\")[\"math_score\"].mean()\n",
    "twelfth_math = student_data.loc[student_data[\"grade\"] == \"12th\"].groupby(\"school_name\")[\"math_score\"].mean()\n",
    "\n",
    "math_scores_by_grade  = pd.DataFrame({\"9th\": ninth_math,\n",
    "                                      \"10th\": tenth_math, \n",
    "                                      \"11th\": eleventh_math, \n",
    "                                      \"12th\": twelfth_math})\n",
    "\n",
    "math_scores_by_grade = math_scores_by_grade[[\"9th\", \"10th\", \"11th\", \"12th\"]]\n",
    "math_scores_by_grade.index.name = None\n",
    "\n",
    "print(math_scores_by_grade.head())"
   ]
  },
  {
   "cell_type": "markdown",
   "metadata": {},
   "source": [
    "## Reading Score by Grade "
   ]
  },
  {
   "cell_type": "code",
   "execution_count": 68,
   "metadata": {},
   "outputs": [
    {
     "name": "stdout",
     "output_type": "stream",
     "text": [
      "                            9th       10th       11th       12th\n",
      "Bailey High School    81.303155  80.907183  80.945643  80.912451\n",
      "Cabrera High School   83.676136  84.253219  83.788382  84.287958\n",
      "Figueroa High School  81.198598  81.408912  80.640339  81.384863\n",
      "Ford High School      80.632653  81.262712  80.403642  80.662338\n",
      "Griffin High School   83.369193  83.706897  84.288089  84.013699\n"
     ]
    }
   ],
   "source": [
    "ninth_reading = student_data.loc[student_data[\"grade\"] == \"9th\"].groupby(\"school_name\")[\"reading_score\"].mean()\n",
    "tenth_reading = student_data.loc[student_data[\"grade\"] == \"10th\"].groupby(\"school_name\")[\"reading_score\"].mean()\n",
    "eleventh_reading = student_data.loc[student_data[\"grade\"] == \"11th\"].groupby(\"school_name\")[\"reading_score\"].mean()\n",
    "twelfth_reading = student_data.loc[student_data[\"grade\"] == \"12th\"].groupby(\"school_name\")[\"reading_score\"].mean()\n",
    "\n",
    "reading_scores_by_grade  = pd.DataFrame({\"9th\": ninth_reading, \n",
    "                                         \"10th\": tenth_reading, \n",
    "                                         \"11th\": eleventh_reading, \n",
    "                                         \"12th\": twelfth_reading})\n",
    "\n",
    "reading_scores_by_grade = reading_scores_by_grade[[\"9th\", \"10th\", \"11th\", \"12th\"]]\n",
    "reading_scores_by_grade.index.name = None\n",
    "\n",
    "print(reading_scores_by_grade.head())"
   ]
  },
  {
   "cell_type": "markdown",
   "metadata": {},
   "source": [
    "## Scores by School Spending"
   ]
  },
  {
   "cell_type": "code",
   "execution_count": 69,
   "metadata": {},
   "outputs": [
    {
     "name": "stdout",
     "output_type": "stream",
     "text": [
      "                     School type  Total students  Total school budget  \\\n",
      "school_name                                                             \n",
      "Bailey High School      District            4976            3124928.0   \n",
      "Cabrera High School      Charter            1858            1081356.0   \n",
      "Figueroa High School    District            2949            1884411.0   \n",
      "Ford High School        District            2739            1763916.0   \n",
      "Griffin High School      Charter            1468             917500.0   \n",
      "\n",
      "                      Per student budget  Average math score  \\\n",
      "school_name                                                    \n",
      "Bailey High School                 628.0           77.048432   \n",
      "Cabrera High School                582.0           83.061895   \n",
      "Figueroa High School               639.0           76.711767   \n",
      "Ford High School                   644.0           77.102592   \n",
      "Griffin High School                625.0           83.351499   \n",
      "\n",
      "                      Average reading score  % passing math  \\\n",
      "school_name                                                   \n",
      "Bailey High School                81.033963       66.680064   \n",
      "Cabrera High School               83.975780       94.133477   \n",
      "Figueroa High School              81.158020       65.988471   \n",
      "Ford High School                  80.746258       68.309602   \n",
      "Griffin High School               83.816757       93.392371   \n",
      "\n",
      "                      % passing reading  % overall passing  \\\n",
      "school_name                                                  \n",
      "Bailey High School            81.933280          54.642283   \n",
      "Cabrera High School           97.039828          91.334769   \n",
      "Figueroa High School          80.739234          53.204476   \n",
      "Ford High School              79.299014          54.289887   \n",
      "Griffin High School           97.138965          90.599455   \n",
      "\n",
      "                     Spending Ranges (Per Student)  \n",
      "school_name                                         \n",
      "Bailey High School                      (584, 629]  \n",
      "Cabrera High School                       (0, 584]  \n",
      "Figueroa High School                    (629, 644]  \n",
      "Ford High School                        (629, 644]  \n",
      "Griffin High School                     (584, 629]  \n",
      "                               Average math score  Average reading score  \\\n",
      "Spending Ranges (Per Student)                                              \n",
      "(0, 584]                                83.455399              83.933814   \n",
      "(584, 629]                              81.899826              83.155286   \n",
      "(629, 644]                              78.518855              81.624473   \n",
      "(644, 675]                              76.997210              81.027843   \n",
      "\n",
      "                               % passing math  % passing reading  \\\n",
      "Spending Ranges (Per Student)                                      \n",
      "(0, 584]                            93.460096          96.610877   \n",
      "(584, 629]                          87.133538          92.718205   \n",
      "(629, 644]                          73.484209          84.391793   \n",
      "(644, 675]                          66.164813          81.133951   \n",
      "\n",
      "                               % overall passing  \n",
      "Spending Ranges (Per Student)                     \n",
      "(0, 584]                               90.369459  \n",
      "(584, 629]                             81.418596  \n",
      "(629, 644]                             62.857656  \n",
      "(644, 675]                             53.526855  \n"
     ]
    },
    {
     "name": "stderr",
     "output_type": "stream",
     "text": [
      "C:\\Users\\Rohan\\AppData\\Local\\Temp\\ipykernel_13864\\1960076542.py:7: FutureWarning: The default of observed=False is deprecated and will be changed to True in a future version of pandas. Pass observed=False to retain current behavior or observed=True to adopt the future default and silence this warning.\n",
      "  spending_math_scores = per_school_summary.groupby([\"Spending Ranges (Per Student)\"])[\"Average math score\"].mean()\n",
      "C:\\Users\\Rohan\\AppData\\Local\\Temp\\ipykernel_13864\\1960076542.py:8: FutureWarning: The default of observed=False is deprecated and will be changed to True in a future version of pandas. Pass observed=False to retain current behavior or observed=True to adopt the future default and silence this warning.\n",
      "  spending_reading_scores = per_school_summary.groupby([\"Spending Ranges (Per Student)\"])[\"Average reading score\"].mean()\n",
      "C:\\Users\\Rohan\\AppData\\Local\\Temp\\ipykernel_13864\\1960076542.py:9: FutureWarning: The default of observed=False is deprecated and will be changed to True in a future version of pandas. Pass observed=False to retain current behavior or observed=True to adopt the future default and silence this warning.\n",
      "  spending_passing_math = per_school_summary.groupby([\"Spending Ranges (Per Student)\"])[\"% passing math\"].mean()\n",
      "C:\\Users\\Rohan\\AppData\\Local\\Temp\\ipykernel_13864\\1960076542.py:10: FutureWarning: The default of observed=False is deprecated and will be changed to True in a future version of pandas. Pass observed=False to retain current behavior or observed=True to adopt the future default and silence this warning.\n",
      "  spending_passing_reading = per_school_summary.groupby([\"Spending Ranges (Per Student)\"])[\"% passing reading\"].mean()\n",
      "C:\\Users\\Rohan\\AppData\\Local\\Temp\\ipykernel_13864\\1960076542.py:11: FutureWarning: The default of observed=False is deprecated and will be changed to True in a future version of pandas. Pass observed=False to retain current behavior or observed=True to adopt the future default and silence this warning.\n",
      "  overall_passing_spending = per_school_summary.groupby([\"Spending Ranges (Per Student)\"])[\"% overall passing\"].mean()\n"
     ]
    }
   ],
   "source": [
    "bins = [0, 584, 629, 644, 675]\n",
    "labels = [\"<$584\", \"$585-629\", \"$630-644\", \"$645-675\"]\n",
    "\n",
    "per_school_summary[\"Spending Ranges (Per Student)\"] = pd.cut(per_student_budget, bins, labels)\n",
    "print(per_school_summary.head())\n",
    "\n",
    "spending_math_scores = per_school_summary.groupby([\"Spending Ranges (Per Student)\"])[\"Average math score\"].mean()\n",
    "spending_reading_scores = per_school_summary.groupby([\"Spending Ranges (Per Student)\"])[\"Average reading score\"].mean()\n",
    "spending_passing_math = per_school_summary.groupby([\"Spending Ranges (Per Student)\"])[\"% passing math\"].mean()\n",
    "spending_passing_reading = per_school_summary.groupby([\"Spending Ranges (Per Student)\"])[\"% passing reading\"].mean()\n",
    "overall_passing_spending = per_school_summary.groupby([\"Spending Ranges (Per Student)\"])[\"% overall passing\"].mean()\n",
    "\n",
    "spending_summary = pd.DataFrame({\"Average math score\" : spending_math_scores,\n",
    "                                 \"Average reading score\": spending_reading_scores,\n",
    "                                 \"% passing math\": spending_passing_math,\n",
    "                                 \"% passing reading\": spending_passing_reading,\n",
    "                                 \"% overall passing\": overall_passing_spending})\n",
    "\n",
    "print(spending_summary.head())"
   ]
  },
  {
   "cell_type": "markdown",
   "metadata": {},
   "source": [
    "## Scores by School Size"
   ]
  },
  {
   "cell_type": "code",
   "execution_count": 70,
   "metadata": {},
   "outputs": [
    {
     "name": "stdout",
     "output_type": "stream",
     "text": [
      "                    Average math score  Average reading score  % passing math  \\\n",
      "School Size                                                                     \n",
      "Small (<1000)                83.821598              83.929843       93.550225   \n",
      "Medium (1000-2000)           83.374684              83.864438       93.599695   \n",
      "Large (2000-5000)            77.746417              81.344493       69.963361   \n",
      "\n",
      "                    % passing reading  % overall passing  \n",
      "School Size                                               \n",
      "Small (<1000)               96.099437          89.883853  \n",
      "Medium (1000-2000)          96.790680          90.621535  \n",
      "Large (2000-5000)           82.766634          58.286003  \n"
     ]
    },
    {
     "name": "stderr",
     "output_type": "stream",
     "text": [
      "C:\\Users\\Rohan\\AppData\\Local\\Temp\\ipykernel_13864\\2537836783.py:6: FutureWarning: The default of observed=False is deprecated and will be changed to True in a future version of pandas. Pass observed=False to retain current behavior or observed=True to adopt the future default and silence this warning.\n",
      "  size_math_scores = per_school_summary.groupby([\"School Size\"])[\"Average math score\"].mean()\n",
      "C:\\Users\\Rohan\\AppData\\Local\\Temp\\ipykernel_13864\\2537836783.py:7: FutureWarning: The default of observed=False is deprecated and will be changed to True in a future version of pandas. Pass observed=False to retain current behavior or observed=True to adopt the future default and silence this warning.\n",
      "  size_reading_scores = per_school_summary.groupby([\"School Size\"])[\"Average reading score\"].mean()\n",
      "C:\\Users\\Rohan\\AppData\\Local\\Temp\\ipykernel_13864\\2537836783.py:8: FutureWarning: The default of observed=False is deprecated and will be changed to True in a future version of pandas. Pass observed=False to retain current behavior or observed=True to adopt the future default and silence this warning.\n",
      "  size_passing_math = per_school_summary.groupby([\"School Size\"])[\"% passing math\"].mean()\n",
      "C:\\Users\\Rohan\\AppData\\Local\\Temp\\ipykernel_13864\\2537836783.py:9: FutureWarning: The default of observed=False is deprecated and will be changed to True in a future version of pandas. Pass observed=False to retain current behavior or observed=True to adopt the future default and silence this warning.\n",
      "  size_passing_reading = per_school_summary.groupby([\"School Size\"])[\"% passing reading\"].mean()\n",
      "C:\\Users\\Rohan\\AppData\\Local\\Temp\\ipykernel_13864\\2537836783.py:10: FutureWarning: The default of observed=False is deprecated and will be changed to True in a future version of pandas. Pass observed=False to retain current behavior or observed=True to adopt the future default and silence this warning.\n",
      "  size_overall_passing = per_school_summary.groupby([\"School Size\"])[\"% overall passing\"].mean()\n"
     ]
    }
   ],
   "source": [
    "sizes = [0, 1000, 2000, 5000]\n",
    "labels_sizes = [\"Small (<1000)\", \"Medium (1000-2000)\", \"Large (2000-5000)\"]\n",
    "\n",
    "per_school_summary[\"School Size\"] = pd.cut(students_total, sizes, labels = labels_sizes)\n",
    "\n",
    "size_math_scores = per_school_summary.groupby([\"School Size\"])[\"Average math score\"].mean()\n",
    "size_reading_scores = per_school_summary.groupby([\"School Size\"])[\"Average reading score\"].mean()\n",
    "size_passing_math = per_school_summary.groupby([\"School Size\"])[\"% passing math\"].mean()\n",
    "size_passing_reading = per_school_summary.groupby([\"School Size\"])[\"% passing reading\"].mean()\n",
    "size_overall_passing = per_school_summary.groupby([\"School Size\"])[\"% overall passing\"].mean()\n",
    "\n",
    "size_summary = pd.DataFrame({\"Average math score\" : size_math_scores,\n",
    "                             \"Average reading score\": size_reading_scores,\n",
    "                             \"% passing math\": size_passing_math,\n",
    "                             \"% passing reading\": size_passing_reading,\n",
    "                             \"% overall passing\": size_overall_passing})\n",
    "\n",
    "print(size_summary.head())"
   ]
  },
  {
   "cell_type": "markdown",
   "metadata": {},
   "source": [
    "## Scores by School Type"
   ]
  },
  {
   "cell_type": "code",
   "execution_count": 71,
   "metadata": {},
   "outputs": [
    {
     "name": "stdout",
     "output_type": "stream",
     "text": [
      "             Average Math Score  Average Reading Score  Passing Math %  \\\n",
      "School type                                                              \n",
      "Charter               83.473852              83.896421       93.620830   \n",
      "District              76.956733              80.966636       66.548453   \n",
      "\n",
      "             Passing Reading %  Overall Passing Rate %  \n",
      "School type                                             \n",
      "Charter              96.586489               90.432244  \n",
      "District             80.799062               53.672208  \n"
     ]
    }
   ],
   "source": [
    "average_math_score_by_type = per_school_summary.groupby([\"School type\"])[\"Average math score\"].mean()\n",
    "average_reading_score_by_type = per_school_summary.groupby([\"School type\"])[\"Average reading score\"].mean()\n",
    "average_percent_passing_math_by_type = per_school_summary.groupby([\"School type\"])[\"% passing math\"].mean()\n",
    "average_percent_passing_reading_by_type = per_school_summary.groupby([\"School type\"])[\"% passing reading\"].mean()\n",
    "average_percent_overall_passing_by_type = per_school_summary.groupby([\"School type\"])[\"% overall passing\"].mean()\n",
    "\n",
    "type_summary = pd.DataFrame({\"Average Math Score\" : average_math_score_by_type,\n",
    "                             \"Average Reading Score\": average_reading_score_by_type,\n",
    "                             \"Passing Math %\": average_percent_passing_math_by_type, \n",
    "                             \"Passing Reading %\": average_percent_passing_reading_by_type,\n",
    "                             \"Overall Passing Rate %\": average_percent_overall_passing_by_type})\n",
    "\n",
    "print(type_summary.head())"
   ]
  }
 ],
 "metadata": {
  "anaconda-cloud": {},
  "kernel_info": {
   "name": "python3"
  },
  "kernelspec": {
   "display_name": "Python 3 (ipykernel)",
   "language": "python",
   "name": "python3"
  },
  "language_info": {
   "codemirror_mode": {
    "name": "ipython",
    "version": 3
   },
   "file_extension": ".py",
   "mimetype": "text/x-python",
   "name": "python",
   "nbconvert_exporter": "python",
   "pygments_lexer": "ipython3",
   "version": "3.12.7"
  },
  "latex_envs": {
   "LaTeX_envs_menu_present": true,
   "autoclose": false,
   "autocomplete": true,
   "bibliofile": "biblio.bib",
   "cite_by": "apalike",
   "current_citInitial": 1,
   "eqLabelWithNumbers": true,
   "eqNumInitial": 1,
   "hotkeys": {
    "equation": "Ctrl-E",
    "itemize": "Ctrl-I"
   },
   "labels_anchors": false,
   "latex_user_defs": false,
   "report_style_numbering": false,
   "user_envs_cfg": false
  },
  "nteract": {
   "version": "0.8.4"
  },
  "vscode": {
   "interpreter": {
    "hash": "5384d77d82de63fd599f73e77f9ec786e7719288bf80a29ec0288c670ac3cf32"
   }
  }
 },
 "nbformat": 4,
 "nbformat_minor": 4
}
